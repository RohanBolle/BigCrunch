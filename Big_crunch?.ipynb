{
  "cells": [
    {
      "cell_type": "markdown",
      "metadata": {
        "id": "view-in-github",
        "colab_type": "text"
      },
      "source": [
        "<a href=\"https://colab.research.google.com/github/RohanBolle/BigCrunch/blob/main/Big_crunch%3F.ipynb\" target=\"_parent\"><img src=\"https://colab.research.google.com/assets/colab-badge.svg\" alt=\"Open In Colab\"/></a>"
      ]
    },
    {
      "cell_type": "code",
      "execution_count": null,
      "metadata": {
        "id": "U3JB08QJ2q66"
      },
      "outputs": [],
      "source": [
        "import numpy as np\n",
        "import scipy as sp\n",
        "from sympy import lambdify\n",
        "import cmath\n",
        "from scipy.integrate import odeint\n",
        "from scipy.integrate import solve_ivp\n",
        "import matplotlib.pyplot as plt"
      ]
    },
    {
      "cell_type": "code",
      "execution_count": null,
      "metadata": {
        "id": "YJMuW0gy23SH"
      },
      "outputs": [],
      "source": [
        "G_0 = 1\n",
        "H_0 = 1 / 13.8  # Hubble constant\n",
        "c = 3e9\n",
        "Omega_0_m = 5  # normalized mass density\n",
        "omega_r = 10e-4\n",
        "omega_lambda = 0\n",
        "omega_k = 1-omega_r-omega_lambda-Omega_0_m\n",
        "omega_0 = omega_lambda + omega_r + Omega_0_m\n",
        "\n",
        "# Time settings\n",
        "t_i = 0.001\n",
        "t_f = 10\n",
        "y_i = 0.01\n",
        "r_vals = np.linspace(0.1, 10, 1000)"
      ]
    },
    {
      "cell_type": "code",
      "execution_count": null,
      "metadata": {
        "id": "tEqMAv9N678s"
      },
      "outputs": [],
      "source": [
        "np.sum([omega_r, omega_lambda, Omega_0_m])"
      ]
    },
    {
      "cell_type": "code",
      "execution_count": null,
      "metadata": {
        "colab": {
          "background_save": true,
          "base_uri": "https://localhost:8080/"
        },
        "id": "Lf2qe-GH5bCT",
        "outputId": "98b90665-3b6d-4e60-dcf6-1fe82825f046"
      },
      "outputs": [
        {
          "name": "stderr",
          "output_type": "stream",
          "text": [
            "<ipython-input-225-3083123174>:2: RuntimeWarning: invalid value encountered in sqrt\n",
            "  sol_ori = solve_ivp(lambda t, r: r*H_0*np.sqrt(Omega_0_m/(r**3) + (omega_k)/(r**2) + omega_r/(r**4) + omega_lambda), [t_i, t_f], [y_i], t_eval=np.linspace(t_i, t_f, 1000), dense_output = False, method='RK45', rtol = 1e-3)\n"
          ]
        }
      ],
      "source": [
        "# Original Friedmann\n",
        "sol_ori = solve_ivp(lambda t, r: r*H_0*np.sqrt(Omega_0_m/(r**3) + (omega_k)/(r**2) + omega_r/(r**4) + omega_lambda), [t_i, t_f], [y_i], t_eval=np.linspace(t_i, t_f, 1000), dense_output = False, method='RK45', rtol = 1e-3)\n",
        "\n",
        "plt.figure(figsize=(10, 6))\n",
        "plt.plot(sol_ori.t, sol_ori.y[0],  \"-\", color ='black', label ='Standard Friedmann')\n",
        "plt.xlabel(\"Time (t)\")\n",
        "plt.ylabel(\"Scale factor (a)\")\n",
        "plt.legend()\n",
        "plt.grid()\n",
        "plt.show()\n"
      ]
    },
    {
      "cell_type": "code",
      "execution_count": null,
      "metadata": {
        "id": "ZXtCTqwTJ_wV"
      },
      "outputs": [],
      "source": [
        "amax = sol_ori.y[0][-1]"
      ]
    },
    {
      "cell_type": "code",
      "execution_count": null,
      "metadata": {
        "id": "BUDwo4EeFNpm"
      },
      "outputs": [],
      "source": [
        "from scipy.optimize import root\n",
        "\n",
        "def expression_under_sqrt(r):\n",
        "  # The function expects a single value for r\n",
        "  if isinstance(r, (list, np.ndarray)):\n",
        "    r = r[0] # Take the first element if it's an array\n",
        "\n",
        "  return Omega_0_m/(r**3) + omega_k/(r**2) + omega_r/(r**4) + omega_lambda\n",
        "\n",
        "# We need to provide an initial guess for the root.\n",
        "# Looking at the plot we made earlier, there seems to be a root around r=1.\n",
        "initial_guess = 1.0\n",
        "\n",
        "# Find the root\n",
        "sol = root(expression_under_sqrt, initial_guess)\n",
        "\n",
        "if sol.success:\n",
        "  root_value = sol.x[0]\n",
        "  print(f\"The expression under the square root is approximately zero at r = {root_value:.4f}\")\n",
        "  # Based on the plot, for r greater than this value, the expression is negative.\n",
        "  print(f\"The square root turns negative for r values approximately greater than {root_value:.4f}\")\n",
        "else:\n",
        "  print(\"Root finding failed.\")\n"
      ]
    },
    {
      "cell_type": "code",
      "execution_count": null,
      "metadata": {
        "id": "nvFYC2oFJqGr"
      },
      "outputs": [],
      "source": [
        "# This is a conceptual example and might need adjustments\n",
        "# depending on how precisely you want to handle the time axis\n",
        "\n",
        "# Assuming sol_ori.t and sol_ori.y[0] contain the expansion data up to amax\n",
        "# Find the index where the scale factor is close to amax (root_value)\n",
        "root_value = 1.059\n",
        "amax_index = np.argmin(np.abs(sol_ori.y[0] - root_value))\n",
        "\n",
        "# Get the time at amax\n",
        "t_at_amax = sol_ori.t[amax_index]\n",
        "\n",
        "# Reverse the time and scale factor data from amax to the beginning\n",
        "# We'll create new time values that go forward in time from t_at_amax\n",
        "# The scale factor values will be the reversed values from the expansion\n",
        "\n",
        "# Time for the Big Crunch phase (relative to t_at_amax)\n",
        "big_crunch_relative_time = sol_ori.t[:amax_index][::-1] - sol_ori.t[0]\n",
        "\n",
        "# Scale factor for the Big Crunch phase\n",
        "big_crunch_scale_factor = sol_ori.y[0][:amax_index][::-1]\n",
        "\n",
        "# Total time for the combined plot\n",
        "combined_t = np.concatenate((sol_ori.t[:amax_index], t_at_amax + big_crunch_relative_time))\n",
        "\n",
        "# Total scale factor for the combined plot\n",
        "combined_y = np.concatenate((sol_ori.y[0][:amax_index], big_crunch_scale_factor))\n",
        "\n",
        "\n",
        "plt.figure(figsize=(10, 6))\n",
        "plt.plot(combined_t, combined_y,  \"-\", color ='black', label ='Standard Friedmann (Expansion and Big Crunch)')\n",
        "plt.xlabel(\"Time (t)\")\n",
        "plt.ylabel(\"Scale factor (a)\")\n",
        "plt.legend()\n",
        "plt.grid()\n",
        "plt.show()"
      ]
    },
    {
      "cell_type": "markdown",
      "source": [
        "CHATGPT SOLUTION"
      ],
      "metadata": {
        "id": "aAuaimotrta0"
      }
    },
    {
      "cell_type": "code",
      "source": [],
      "metadata": {
        "id": "oTLiFChFrwT-"
      },
      "execution_count": null,
      "outputs": []
    }
  ],
  "metadata": {
    "colab": {
      "provenance": [],
      "authorship_tag": "ABX9TyNakb2JjdKiOWj7sI+NqVTz",
      "include_colab_link": true
    },
    "kernelspec": {
      "display_name": "Python 3",
      "name": "python3"
    },
    "language_info": {
      "name": "python"
    }
  },
  "nbformat": 4,
  "nbformat_minor": 0
}